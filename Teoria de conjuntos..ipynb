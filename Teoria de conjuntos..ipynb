{
 "cells": [
  {
   "cell_type": "markdown",
   "id": "8152cb88",
   "metadata": {},
   "source": [
    "## Teoria de conjuntos "
   ]
  },
  {
   "cell_type": "code",
   "execution_count": 2,
   "id": "0a8f165f",
   "metadata": {},
   "outputs": [],
   "source": [
    "###creacion de conjuntos\n",
    "\n",
    "A = {1, 2, 3, 4, 5}\n",
    "\n",
    "B = {3, 4, 5, 6, 7}\n",
    "\n",
    "C = set [{3, 6, 9, 12, 15}]"
   ]
  },
  {
   "cell_type": "code",
   "execution_count": 3,
   "id": "393cf8ea",
   "metadata": {},
   "outputs": [],
   "source": [
    "Lista = [1, 2, 3, 4, 5, 1, 2, 3, 4, 5]"
   ]
  },
  {
   "cell_type": "markdown",
   "id": "7d841249",
   "metadata": {},
   "source": [
    "### operaciones.\n",
    "\n",
    "Python proporciona operadores y metodos para realizar operaciones basicas de conjuntos, como unión, interseciión, diferencia y diferencia simetrica."
   ]
  },
  {
   "cell_type": "markdown",
   "id": "ebdefe00",
   "metadata": {},
   "source": [
    "### Unión.\n",
    "La teoria de conjuntos es una operación que combina dos conjuntos para formar un nuevo conjunto que contiene todos los elementos."
   ]
  },
  {
   "cell_type": "markdown",
   "id": "0e8e93b9",
   "metadata": {},
   "source": [
    "$$ \n",
    " C = A \\cup B = {x:x \\in A \\quad o \\quad x \\in B}\n",
    "$$"
   ]
  },
  {
   "cell_type": "code",
   "execution_count": null,
   "id": "f2b5ee4a",
   "metadata": {},
   "outputs": [],
   "source": [
    "A | B"
   ]
  },
  {
   "cell_type": "code",
   "execution_count": 4,
   "id": "6925d935",
   "metadata": {},
   "outputs": [
    {
     "data": {
      "text/plain": [
       "{1, 2, 3, 4, 5}"
      ]
     },
     "execution_count": 4,
     "metadata": {},
     "output_type": "execute_result"
    }
   ],
   "source": [
    "{1, 2, 3, 4, 5}"
   ]
  },
  {
   "cell_type": "markdown",
   "id": "c52fa392",
   "metadata": {},
   "source": [
    "### Interseción.\n",
    "\n",
    "En teoría de conjuntos, la intersección es una operación que se realiza entre dos o más conjuntos para obtener un nuevo conjunto que contiene únicamente los elementos que son comunes a todos los conjuntos originales."
   ]
  },
  {
   "cell_type": "markdown",
   "id": "5984acc8",
   "metadata": {},
   "source": [
    "$$\n",
    " C = A \\cap B = {x:x \\in A \\quad y \\quad x \\in B}\n",
    "$$"
   ]
  },
  {
   "cell_type": "markdown",
   "id": "b427ccec",
   "metadata": {},
   "source": [
    "En python, la operación interseciión puede realizarse utilizando el operador & o el metodo de intersección."
   ]
  },
  {
   "cell_type": "code",
   "execution_count": 5,
   "id": "7b658f84",
   "metadata": {},
   "outputs": [
    {
     "data": {
      "text/plain": [
       "{3, 4, 5}"
      ]
     },
     "execution_count": 5,
     "metadata": {},
     "output_type": "execute_result"
    }
   ],
   "source": [
    "A & B"
   ]
  },
  {
   "cell_type": "code",
   "execution_count": 6,
   "id": "126b9554",
   "metadata": {},
   "outputs": [
    {
     "data": {
      "text/plain": [
       "{3, 4, 5}"
      ]
     },
     "execution_count": 6,
     "metadata": {},
     "output_type": "execute_result"
    }
   ],
   "source": [
    "A.intersection(B)"
   ]
  },
  {
   "cell_type": "markdown",
   "id": "9786c408",
   "metadata": {},
   "source": [
    "### Diferencia.\n",
    "\n",
    "En la teoría de conjuntos, la diferencia entre dos conjuntos se refiere a un nuevo conjunto que contiene todos los elementos del primer conjunto que no están presentes en el segundo conjunto."
   ]
  },
  {
   "cell_type": "markdown",
   "id": "75ad0d01",
   "metadata": {},
   "source": [
    "$$\n",
    "A - B = \\{ x : x \\in A \\text{ y } x \\notin B \\}\n",
    "$$"
   ]
  },
  {
   "cell_type": "markdown",
   "id": "8133d663",
   "metadata": {},
   "source": [
    "$$\n",
    "A \\setminus B = \\{ x : x \\in A \\text{ y } x \\notin B \\}\n",
    "$$"
   ]
  },
  {
   "cell_type": "markdown",
   "id": "4da7ee2f",
   "metadata": {},
   "source": [
    "En Python, puedes realizar la operación de diferencia entre conjuntos utilizando el operador de resta (-) o el método difference(). Aquí te muestro ambos métodos:"
   ]
  },
  {
   "cell_type": "code",
   "execution_count": 8,
   "id": "7c878612",
   "metadata": {},
   "outputs": [
    {
     "data": {
      "text/plain": [
       "{1, 2}"
      ]
     },
     "execution_count": 8,
     "metadata": {},
     "output_type": "execute_result"
    }
   ],
   "source": [
    "A - B"
   ]
  },
  {
   "cell_type": "code",
   "execution_count": 9,
   "id": "0ae1bd71",
   "metadata": {},
   "outputs": [
    {
     "data": {
      "text/plain": [
       "{1, 2}"
      ]
     },
     "execution_count": 9,
     "metadata": {},
     "output_type": "execute_result"
    }
   ],
   "source": [
    "A.difference(B)"
   ]
  },
  {
   "cell_type": "markdown",
   "id": "f4518317",
   "metadata": {},
   "source": [
    "### Diferencia simetrica.\n",
    "\n",
    "La diferencia simétrica entre dos conjuntos es una operación que resulta en un nuevo conjunto que contiene todos los elementos que pertenecen a alguno de los conjuntos originales, pero no a ambos."
   ]
  },
  {
   "cell_type": "markdown",
   "id": "bab78890",
   "metadata": {},
   "source": [
    "$$\n",
    "A \\Delta B = (A \\cup B) - (A \\cap B)\n",
    "$$"
   ]
  },
  {
   "cell_type": "markdown",
   "id": "923d31f6",
   "metadata": {},
   "source": [
    "En Python, puedes calcular la diferencia simétrica entre dos conjuntos utilizando el operador de unión exclusiva (^) o el método symmetric_difference(). Aquí te muestro ambos métodos:"
   ]
  },
  {
   "cell_type": "code",
   "execution_count": 10,
   "id": "744537ec",
   "metadata": {},
   "outputs": [
    {
     "data": {
      "text/plain": [
       "{1, 2, 6, 7}"
      ]
     },
     "execution_count": 10,
     "metadata": {},
     "output_type": "execute_result"
    }
   ],
   "source": [
    "A ^ B"
   ]
  },
  {
   "cell_type": "code",
   "execution_count": 11,
   "id": "f83a3d8b",
   "metadata": {},
   "outputs": [
    {
     "data": {
      "text/plain": [
       "{1, 2, 6, 7}"
      ]
     },
     "execution_count": 11,
     "metadata": {},
     "output_type": "execute_result"
    }
   ],
   "source": [
    "A.symmetric_difference(B)"
   ]
  }
 ],
 "metadata": {
  "kernelspec": {
   "display_name": "Python 3 (ipykernel)",
   "language": "python",
   "name": "python3"
  },
  "language_info": {
   "codemirror_mode": {
    "name": "ipython",
    "version": 3
   },
   "file_extension": ".py",
   "mimetype": "text/x-python",
   "name": "python",
   "nbconvert_exporter": "python",
   "pygments_lexer": "ipython3",
   "version": "3.11.5"
  }
 },
 "nbformat": 4,
 "nbformat_minor": 5
}
